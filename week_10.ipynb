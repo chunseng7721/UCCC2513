{
 "cells": [
  {
   "cell_type": "markdown",
   "id": "76732f13",
   "metadata": {},
   "source": [
    "# Learning outcomes\n",
    "1. Classifier: k Nearest Neigbor classifier (kNN)\n",
    "2. Feature extraction method: Histogram of gradients (HOG)\n",
    "3. Demo on how to apply machine learning technique in image classification"
   ]
  },
  {
   "cell_type": "markdown",
   "id": "143b531b",
   "metadata": {},
   "source": [
    "## Setup"
   ]
  },
  {
   "cell_type": "code",
   "execution_count": 1,
   "id": "1a3fbd91",
   "metadata": {},
   "outputs": [],
   "source": [
    "import sys\n",
    "sys.version_info >= (3, 7)\n",
    "\n",
    "import numpy as np\n",
    "import cv2 as cv\n",
    "import os    # filepath manipulation\n",
    "import matplotlib.pyplot as plt"
   ]
  },
  {
   "cell_type": "markdown",
   "id": "68bc2507",
   "metadata": {},
   "source": [
    "## How kNN works?"
   ]
  },
  {
   "cell_type": "code",
   "execution_count": 9,
   "id": "2c417485",
   "metadata": {},
   "outputs": [
    {
     "name": "stdout",
     "output_type": "stream",
     "text": [
      "The prediction: [[1.]]\n",
      "The labels of 3 neighbors: [[1. 1. 1.]]\n",
      "The squared distances: [[245. 290. 305.]]\n"
     ]
    },
    {
     "data": {
      "image/png": "[encoded data removed]",
      "text/plain": [
       "<Figure size 432x288 with 1 Axes>"
      ]
     },
     "metadata": {
      "needs_background": "light"
     },
     "output_type": "display_data"
    }
   ],
   "source": [
    "np.random.seed(40)\n",
    "\n",
    "# create simple data: biviarate data (integer) x and y generated randomly from 0 to 99.\n",
    "# create labels: span[0, 1]: binary class problem\n",
    "train_data = np.random.randint(0, 100, (30, 2)).astype(np.float32)\n",
    "targets = np.random.randint(0, 2, (30, 1)).astype(np.float32)\n",
    "\n",
    "# subset the data with target 0\n",
    "datA = train_data[targets.ravel() == 0]\n",
    "plt.scatter(datA[:, 0], datA[:, 1], s=60, c=\"r\", marker=\"s\")\n",
    "\n",
    "# subset the data with target 1\n",
    "datB = train_data[targets.ravel() == 1]\n",
    "plt.scatter(datB[:, 0], datB[:, 1], s=60, c=\"b\", marker=\"o\")\n",
    "\n",
    "# create a new data(query data)\n",
    "new_data = np.random.randint(0, 100, (1,2)).astype(np.float32)\n",
    "plt.scatter(new_data[:, 0], new_data[:, 1], s=60, c=\"g\", marker=\"^\")\n",
    "\n",
    "# create kNN: the purpose is to predict the label of new data\n",
    "knn = cv.ml.KNearest_create()\n",
    "knn.train(train_data, cv.ml.ROW_SAMPLE, targets)\n",
    "ret, pred, labels_neigh, sq_dist = knn.findNearest(new_data, 3)\n",
    "\n",
    "print(f\"The prediction: {pred}\")\n",
    "print(f\"The labels of 3 neighbors: {labels_neigh}\")\n",
    "print(f\"The squared distances: {sq_dist}\")\n",
    "\n",
    "plt.show()\n"
   ]
  },
  {
   "cell_type": "code",
   "execution_count": 12,
   "id": "e8571643",
   "metadata": {},
   "outputs": [
    {
     "name": "stdout",
     "output_type": "stream",
     "text": [
      "the prediction: [1.]\n"
     ]
    }
   ],
   "source": [
    "from sklearn.neighbors import KNeighborsClassifier\n",
    "\n",
    "# instantiate\n",
    "knn = KNeighborsClassifier(n_neighbors=3, n_jobs = -1)\n",
    "knn.fit(train_data, targets.flatten())\n",
    "print(f\"the prediction: {knn.predict(new_data)}\")"
   ]
  },
  {
   "cell_type": "code",
   "execution_count": 13,
   "id": "5dd6b53e",
   "metadata": {},
   "outputs": [
    {
     "data": {
      "text/plain": [
       "(array([[15.65247584, 17.02938637, 17.4642492 ]]),\n",
       " array([[28, 15,  5]], dtype=int64))"
      ]
     },
     "execution_count": 13,
     "metadata": {},
     "output_type": "execute_result"
    }
   ],
   "source": [
    "knn.kneighbors(new_data)"
   ]
  },
  {
   "cell_type": "code",
   "execution_count": 15,
   "id": "58fddc51",
   "metadata": {},
   "outputs": [
    {
     "data": {
      "text/plain": [
       "array([[[1.],\n",
       "        [1.],\n",
       "        [1.]]], dtype=float32)"
      ]
     },
     "execution_count": 15,
     "metadata": {},
     "output_type": "execute_result"
    }
   ],
   "source": [
    "dist, idx_neigh = knn.kneighbors(new_data)\n",
    "\n",
    "targets[idx_neigh]"
   ]
  },
  {
   "cell_type": "code",
   "execution_count": 16,
   "id": "17e16187",
   "metadata": {},
   "outputs": [
    {
     "data": {
      "text/plain": [
       "['C:\\\\Users\\\\User\\\\Downloads\\\\Mini Project\\\\UCCC2513_code',\n",
       " 'C:\\\\Users\\\\User\\\\anaconda3\\\\python39.zip',\n",
       " 'C:\\\\Users\\\\User\\\\anaconda3\\\\DLLs',\n",
       " 'C:\\\\Users\\\\User\\\\anaconda3\\\\lib',\n",
       " 'C:\\\\Users\\\\User\\\\anaconda3',\n",
       " '',\n",
       " 'C:\\\\Users\\\\User\\\\anaconda3\\\\lib\\\\site-packages',\n",
       " 'C:\\\\Users\\\\User\\\\anaconda3\\\\lib\\\\site-packages\\\\win32',\n",
       " 'C:\\\\Users\\\\User\\\\anaconda3\\\\lib\\\\site-packages\\\\win32\\\\lib',\n",
       " 'C:\\\\Users\\\\User\\\\anaconda3\\\\lib\\\\site-packages\\\\Pythonwin']"
      ]
     },
     "execution_count": 16,
     "metadata": {},
     "output_type": "execute_result"
    }
   ],
   "source": [
    "sys.path"
   ]
  },
  {
   "cell_type": "code",
   "execution_count": 18,
   "id": "124845ba",
   "metadata": {},
   "outputs": [],
   "source": [
    "sys.path.insert(1, \"C:/Users/User/Downloads/Mini Project/UCCC2513_code/fashion-mnist-master/utils\")"
   ]
  },
  {
   "cell_type": "code",
   "execution_count": 19,
   "id": "9c42f50c",
   "metadata": {},
   "outputs": [],
   "source": [
    "import mnist_reader\n",
    "X_train, y_train = mnist_reader.load_mnist('./fashion-mnist-master/data/fashion', kind='train')\n",
    "X_test, y_test = mnist_reader.load_mnist('./fashion-mnist-master/data/fashion', kind='t10k')"
   ]
  },
  {
   "cell_type": "code",
   "execution_count": 20,
   "id": "f7b65fbf",
   "metadata": {},
   "outputs": [
    {
     "data": {
      "text/plain": [
       "(60000, 784)"
      ]
     },
     "execution_count": 20,
     "metadata": {},
     "output_type": "execute_result"
    }
   ],
   "source": [
    "# check the dimensionality\n",
    "X_train.shape"
   ]
  },
  {
   "cell_type": "code",
   "execution_count": 21,
   "id": "775f3137",
   "metadata": {},
   "outputs": [
    {
     "data": {
      "text/plain": [
       "dtype('uint8')"
      ]
     },
     "execution_count": 21,
     "metadata": {},
     "output_type": "execute_result"
    }
   ],
   "source": [
    "X_train.dtype"
   ]
  },
  {
   "cell_type": "code",
   "execution_count": 22,
   "id": "183745e4",
   "metadata": {},
   "outputs": [
    {
     "data": {
      "text/plain": [
       "784"
      ]
     },
     "execution_count": 22,
     "metadata": {},
     "output_type": "execute_result"
    }
   ],
   "source": [
    "28*28"
   ]
  },
  {
   "cell_type": "code",
   "execution_count": 25,
   "id": "2b659de1",
   "metadata": {},
   "outputs": [],
   "source": [
    "class_labels = [\"t-shirt\", \"trouser\", \"pullover\", \"dress\", \"coat\", \"sandal\", \"shirt\", \"sneaker\", \"bag\", \"ankle boot\"]"
   ]
  },
  {
   "cell_type": "code",
   "execution_count": 26,
   "id": "cb5eaf2a",
   "metadata": {},
   "outputs": [
    {
     "data": {
      "image/png": "[encoded data removed]",
      "text/plain": [
       "<Figure size 1080x1080 with 25 Axes>"
      ]
     },
     "metadata": {},
     "output_type": "display_data"
    }
   ],
   "source": [
    "# visualize train data\n",
    "plt.figure(figsize =(15,15))\n",
    "\n",
    "for i in range(25):\n",
    "    plt.subplot(5, 5, i+1)\n",
    "    plt.imshow(X_train[i].reshape((28, 28)), cmap=plt.cm.gray)\n",
    "    plt.xticks([]), plt.yticks([])\n",
    "    plt.title(class_labels[y_train[i]])\n",
    "    \n",
    "plt.show()"
   ]
  },
  {
   "cell_type": "code",
   "execution_count": 28,
   "id": "4d0251eb",
   "metadata": {},
   "outputs": [],
   "source": [
    "# random sampling\n",
    "np.random.seed(300)\n",
    "shuffle_idx = np.random.permutation(len(X_train)) #shuffle the number\n",
    "n_sample = int(0.1*len(X_train))\n",
    "X_train_part = X_train[shuffle_idx[:n_sample]]\n",
    "y_train_part = y_train[shuffle_idx[:n_sample]]"
   ]
  },
  {
   "cell_type": "code",
   "execution_count": 29,
   "id": "4df6a5d6",
   "metadata": {},
   "outputs": [
    {
     "data": {
      "text/plain": [
       "array([8, 4, 9, 4, 0, 4, 4, 6, 1, 6, 8, 2, 8, 3, 9, 5, 9, 0, 0, 7],\n",
       "      dtype=uint8)"
      ]
     },
     "execution_count": 29,
     "metadata": {},
     "output_type": "execute_result"
    }
   ],
   "source": [
    "y_train_part[:20]"
   ]
  },
  {
   "cell_type": "code",
   "execution_count": 32,
   "id": "ae70c170",
   "metadata": {},
   "outputs": [],
   "source": [
    "from sklearn.model_selection import cross_val_score # perform k-fold CV"
   ]
  },
  {
   "cell_type": "code",
   "execution_count": 34,
   "id": "06887681",
   "metadata": {},
   "outputs": [
    {
     "data": {
      "image/png": "[encoded data removed]",
      "text/plain": [
       "<Figure size 432x288 with 1 Axes>"
      ]
     },
     "metadata": {
      "needs_background": "light"
     },
     "output_type": "display_data"
    }
   ],
   "source": [
    "# perform k_fold cV on all the k that we selected\n",
    "k_list = np.arange(1, 21)\n",
    "\n",
    "mean_acc = []\n",
    "std_acc = []\n",
    "for k in k_list:\n",
    "    knn = KNeighborsClassifier(n_neighbors=k, n_jobs=-1)\n",
    "    scores = cross_val_score(knn, X_train_part, y_train_part) #5  accuracy\n",
    "    mean_acc.append(scores.mean()) \n",
    "    std_acc.append(scores.std())\n",
    "    \n",
    "# plot the mean accuracy\n",
    "plt.errorbar(k_list, mean_acc, std_acc, marker=\"s\", mfc = \"r\", mec=\"g\")\n",
    "plt.xlabel(\"Number of nearest neighbors\")\n",
    "plt.ylabel(\"CV accuracy\")\n",
    "plt.show()"
   ]
  },
  {
   "cell_type": "code",
   "execution_count": 35,
   "id": "2ac382ba",
   "metadata": {},
   "outputs": [
    {
     "data": {
      "text/plain": [
       "4"
      ]
     },
     "execution_count": 35,
     "metadata": {},
     "output_type": "execute_result"
    }
   ],
   "source": [
    "k_opt = k_list[np.argmax(mean_acc)]\n",
    "k_opt"
   ]
  },
  {
   "cell_type": "code",
   "execution_count": 36,
   "id": "1a623a26",
   "metadata": {},
   "outputs": [],
   "source": [
    "import time"
   ]
  },
  {
   "cell_type": "code",
   "execution_count": 39,
   "id": "52337178",
   "metadata": {},
   "outputs": [
    {
     "name": "stdout",
     "output_type": "stream",
     "text": [
      "The runtime for training and prediction of kNN: 54.240s.\n"
     ]
    }
   ],
   "source": [
    "# retrain and produce prediction\n",
    "# make use of all the training data\n",
    "\n",
    "start = time.time()\n",
    "knn = KNeighborsClassifier(n_neighbors=k_opt, n_jobs=-1)\n",
    "knn.fit(X_train, y_train)\n",
    "pred = knn.predict(X_test)\n",
    "print(f\"The runtime for training and prediction of kNN: {(time.time() -start):.3f}s.\")"
   ]
  },
  {
   "cell_type": "code",
   "execution_count": 40,
   "id": "f2a8ab62",
   "metadata": {},
   "outputs": [],
   "source": [
    "from sklearn.metrics import classification_report, confusion_matrix, ConfusionMatrixDisplay"
   ]
  },
  {
   "cell_type": "code",
   "execution_count": 41,
   "id": "e412cf03",
   "metadata": {},
   "outputs": [
    {
     "name": "stdout",
     "output_type": "stream",
     "text": [
      "              precision    recall  f1-score   support\n",
      "\n",
      "     t-shirt       0.75      0.89      0.81      1000\n",
      "     trouser       0.99      0.97      0.98      1000\n",
      "    pullover       0.71      0.83      0.76      1000\n",
      "       dress       0.90      0.87      0.89      1000\n",
      "        coat       0.80      0.74      0.77      1000\n",
      "      sandal       0.99      0.85      0.92      1000\n",
      "       shirt       0.68      0.55      0.60      1000\n",
      "     sneaker       0.88      0.97      0.93      1000\n",
      "         bag       0.98      0.95      0.97      1000\n",
      "  ankle boot       0.92      0.96      0.94      1000\n",
      "\n",
      "    accuracy                           0.86     10000\n",
      "   macro avg       0.86      0.86      0.86     10000\n",
      "weighted avg       0.86      0.86      0.86     10000\n",
      "\n"
     ]
    }
   ],
   "source": [
    "print(classification_report(y_test, pred, target_names=class_labels))"
   ]
  },
  {
   "cell_type": "code",
   "execution_count": 42,
   "id": "ffb761a6",
   "metadata": {
    "scrolled": false
   },
   "outputs": [
    {
     "data": {
      "image/png": "[encoded data removed]",
      "text/plain": [
       "<Figure size 432x288 with 2 Axes>"
      ]
     },
     "metadata": {
      "needs_background": "light"
     },
     "output_type": "display_data"
    }
   ],
   "source": [
    "conf_mat = confusion_matrix(y_test, pred)\n",
    "conf_mat_display = ConfusionMatrixDisplay(confusion_matrix=conf_mat,\n",
    "                                         display_labels=class_labels)\n",
    "\n",
    "conf_mat_display.plot()\n",
    "plt.xticks(rotation=45)\n",
    "plt.show()"
   ]
  },
  {
   "cell_type": "code",
   "execution_count": 46,
   "id": "6d70a71e",
   "metadata": {},
   "outputs": [
    {
     "data": {
      "text/plain": [
       "804"
      ]
     },
     "execution_count": 46,
     "metadata": {},
     "output_type": "execute_result"
    }
   ],
   "source": [
    "conf_mat[:, -4].sum()"
   ]
  },
  {
   "cell_type": "code",
   "execution_count": 47,
   "id": "6c61fe42",
   "metadata": {},
   "outputs": [
    {
     "data": {
      "text/plain": [
       "0.677860696517413"
      ]
     },
     "execution_count": 47,
     "metadata": {},
     "output_type": "execute_result"
    }
   ],
   "source": [
    "545 / 804 # precision = recall / total predicted value "
   ]
  },
  {
   "cell_type": "code",
   "execution_count": 48,
   "id": "3b36e7a3",
   "metadata": {},
   "outputs": [
    {
     "data": {
      "text/plain": [
       "0.8577"
      ]
     },
     "execution_count": 48,
     "metadata": {},
     "output_type": "execute_result"
    }
   ],
   "source": [
    "np.diag(conf_mat).sum() / len(y_test) #drag the diagonal of the graph - accuracy"
   ]
  },
  {
   "cell_type": "markdown",
   "id": "fefa274d",
   "metadata": {},
   "source": [
    "## use real world data: binary classification problem (cats vs dogs)"
   ]
  },
  {
   "cell_type": "code",
   "execution_count": 49,
   "id": "5d243ded",
   "metadata": {},
   "outputs": [],
   "source": [
    "# load data and preprocess (resizing)\n",
    "class dataPreprocessor:\n",
    "    def __init__(self, width, height, inter=cv.INTER_AREA):\n",
    "        self.width = width\n",
    "        self.height = height\n",
    "        self.inter = inter\n",
    "    \n",
    "    def process(self, img):\n",
    "        return cv.resize(img, (self.width, self.height), interpolation=self.inter)\n",
    "    "
   ]
  },
  {
   "cell_type": "code",
   "execution_count": 54,
   "id": "0ad8f580",
   "metadata": {},
   "outputs": [],
   "source": [
    "# input the image paths: images and their labels in numpy array\n",
    "class dataLoader:\n",
    "    def __init__(self, preprocessor=None):\n",
    "        self.preprocessor = preprocessor\n",
    "        \n",
    "        if self.preprocessor is None:\n",
    "            self.preprocessor = []\n",
    "            \n",
    "    def load(self, imgPath):\n",
    "        data = []\n",
    "        labels = []\n",
    "        \n",
    "        for imgName in os.listdir(imgPath):\n",
    "            filePath = os.path.join(imgPath, imgName)\n",
    "            img = cv.imread(cv.samples.findFile(filePath))\n",
    "            label = imgName.split(\".\")[0]\n",
    "            \n",
    "            if self.preprocessor is not None:\n",
    "                for p in self.preprocessor:\n",
    "                    img = p.process(img)\n",
    "            \n",
    "            data.append(img)\n",
    "            labels.append(label)\n",
    "            \n",
    "        return np.array(data), np.array(labels)"
   ]
  },
  {
   "cell_type": "code",
   "execution_count": 55,
   "id": "cb707621",
   "metadata": {},
   "outputs": [],
   "source": [
    "#os.listdir(\"./images/cats_vs_dogs_small\")\n",
    "\n",
    "# instantiate the processor and loader\n",
    "dataPrep = dataPreprocessor(64, 64)\n",
    "dataLoad = dataLoader(preprocessor=[dataPrep])\n",
    "X, y = dataLoad.load(\"./images/cats_vs_dogs_small\")"
   ]
  },
  {
   "cell_type": "code",
   "execution_count": 56,
   "id": "657e2696",
   "metadata": {},
   "outputs": [
    {
     "data": {
      "text/plain": [
       "(3000, 64, 64, 3)"
      ]
     },
     "execution_count": 56,
     "metadata": {},
     "output_type": "execute_result"
    }
   ],
   "source": [
    "X.shape"
   ]
  },
  {
   "cell_type": "markdown",
   "id": "ce0d1044",
   "metadata": {},
   "source": [
    "3000 color images consisting of cats or dogs"
   ]
  },
  {
   "cell_type": "code",
   "execution_count": 57,
   "id": "9f674454",
   "metadata": {},
   "outputs": [
    {
     "data": {
      "text/plain": [
       "(array(['cat', 'dog'], dtype='<U3'), array([1500, 1500], dtype=int64))"
      ]
     },
     "execution_count": 57,
     "metadata": {},
     "output_type": "execute_result"
    }
   ],
   "source": [
    "np.unique(y, return_counts=True)"
   ]
  },
  {
   "cell_type": "code",
   "execution_count": 58,
   "id": "ccc0d141",
   "metadata": {},
   "outputs": [],
   "source": [
    "from sklearn.model_selection import train_test_split"
   ]
  },
  {
   "cell_type": "code",
   "execution_count": 59,
   "id": "319a623b",
   "metadata": {},
   "outputs": [],
   "source": [
    "# Partition the data into train and test\n",
    "X_train, X_test, y_train, y_test = train_test_split(X, y, stratify=y, test_size=500, random_state=100) \n",
    "# stratify means take the ratio in consideration, 1500 cats, 1500 dogs, \n",
    "# split into 1250 cats and 1250 dogs train, 250 cats, 250 dogs test"
   ]
  },
  {
   "cell_type": "code",
   "execution_count": 60,
   "id": "c63ecb27",
   "metadata": {},
   "outputs": [
    {
     "data": {
      "text/plain": [
       "(2500, 64, 64, 3)"
      ]
     },
     "execution_count": 60,
     "metadata": {},
     "output_type": "execute_result"
    }
   ],
   "source": [
    "X_train.shape"
   ]
  },
  {
   "cell_type": "code",
   "execution_count": 62,
   "id": "78bf4200",
   "metadata": {},
   "outputs": [],
   "source": [
    "# Extract HOG\n",
    "winSize = (28, 28)\n",
    "blockSize = (14, 14)\n",
    "blockStride = (7, 7)\n",
    "cellSize = (7, 7)\n",
    "nbins = 9\n",
    "derivAperture = 1\n",
    "winSigma = -1\n",
    "histogramNormType = 0\n",
    "L2HysThreshold = 0.2\n",
    "gammaCorrection = True\n",
    "nlevels = 64\n",
    "signedGradients = False\n",
    "\n",
    "hog = cv.HOGDescriptor(winSize, blockSize, blockStride, cellSize, nbins, derivAperture,\n",
    "                      winSigma, histogramNormType, L2HysThreshold, gammaCorrection,\n",
    "                      nlevels, signedGradients)"
   ]
  },
  {
   "cell_type": "code",
   "execution_count": 63,
   "id": "9bd1369c",
   "metadata": {},
   "outputs": [],
   "source": [
    "from sklearn.preprocessing import MinMaxScaler"
   ]
  },
  {
   "cell_type": "code",
   "execution_count": 66,
   "id": "a45d8632",
   "metadata": {},
   "outputs": [
    {
     "data": {
      "image/png": "[encoded data removed]",
      "text/plain": [
       "<Figure size 432x288 with 1 Axes>"
      ]
     },
     "metadata": {
      "needs_background": "light"
     },
     "output_type": "display_data"
    }
   ],
   "source": [
    "# perform feature extraction and scaling\n",
    "X_train_hog = [hog.compute(x) for x in X_train]\n",
    "X_train_hog = np.array(X_train_hog)\n",
    "# scaling\n",
    "scaler = MinMaxScaler()\n",
    "X_train_hog = scaler.fit_transform(X_train_hog)\n",
    "\n",
    "k_list = np.arange(1, 21)\n",
    "mean_acc = []\n",
    "std_acc = []\n",
    "for k in k_list:\n",
    "    knn = KNeighborsClassifier(n_neighbors=k, n_jobs=-1)\n",
    "    scores = cross_val_score(knn, X_train_hog, y_train) #5  accuracy\n",
    "    mean_acc.append(scores.mean()) \n",
    "    std_acc.append(scores.std())\n",
    "    \n",
    "# plot the mean accuracy\n",
    "plt.errorbar(k_list, mean_acc, std_acc, marker=\"s\", mfc = \"r\", mec=\"g\")\n",
    "plt.xlabel(\"Number of nearest neighbors\")\n",
    "plt.ylabel(\"CV accuracy\")\n",
    "plt.show()"
   ]
  },
  {
   "cell_type": "code",
   "execution_count": 68,
   "id": "1e183f0c",
   "metadata": {},
   "outputs": [
    {
     "name": "stdout",
     "output_type": "stream",
     "text": [
      "The runtime for training and prediction of kNN: 1.321s.\n"
     ]
    }
   ],
   "source": [
    "# feature transform on test data\n",
    "X_test_hog = [hog.compute(x) for x in X_test]\n",
    "X_test_hog = np.array(X_test_hog)\n",
    "X_test_hog = scaler.transform(X_test_hog)\n",
    "\n",
    "\n",
    "k_opt = k_list[np.argmax(mean_acc)]\n",
    "start = time.time()\n",
    "knn = KNeighborsClassifier(n_neighbors=k_opt, n_jobs=-1)\n",
    "knn.fit(X_train_hog, y_train)\n",
    "pred = knn.predict(X_test_hog)\n",
    "print(f\"The runtime for training and prediction of kNN: {(time.time() -start):.3f}s.\")\n"
   ]
  },
  {
   "cell_type": "code",
   "execution_count": 69,
   "id": "917256d7",
   "metadata": {},
   "outputs": [
    {
     "name": "stdout",
     "output_type": "stream",
     "text": [
      "              precision    recall  f1-score   support\n",
      "\n",
      "         cat       0.69      0.45      0.55       250\n",
      "         dog       0.59      0.80      0.68       250\n",
      "\n",
      "    accuracy                           0.63       500\n",
      "   macro avg       0.64      0.63      0.61       500\n",
      "weighted avg       0.64      0.63      0.61       500\n",
      "\n"
     ]
    }
   ],
   "source": [
    "print(classification_report(y_test, pred, target_names=knn.classes_))"
   ]
  },
  {
   "cell_type": "code",
   "execution_count": 70,
   "id": "1953c6c6",
   "metadata": {},
   "outputs": [
    {
     "data": {
      "image/png": "[encoded data removed]",
      "text/plain": [
       "<Figure size 432x288 with 2 Axes>"
      ]
     },
     "metadata": {
      "needs_background": "light"
     },
     "output_type": "display_data"
    }
   ],
   "source": [
    "conf_mat = confusion_matrix(y_test, pred)\n",
    "conf_mat_display = ConfusionMatrixDisplay(confusion_matrix=conf_mat,\n",
    "                                         display_labels=knn.classes_)\n",
    "\n",
    "conf_mat_display.plot()\n",
    "plt.xticks(rotation=45)\n",
    "plt.show()"
   ]
  },
  {
   "cell_type": "code",
   "execution_count": null,
   "id": "bb3247b2",
   "metadata": {},
   "outputs": [],
   "source": []
  }
 ],
 "metadata": {
  "kernelspec": {
   "display_name": "Python 3 (ipykernel)",
   "language": "python",
   "name": "python3"
  },
  "language_info": {
   "codemirror_mode": {
    "name": "ipython",
    "version": 3
   },
   "file_extension": ".py",
   "mimetype": "text/x-python",
   "name": "python",
   "nbconvert_exporter": "python",
   "pygments_lexer": "ipython3",
   "version": "3.9.12"
  }
 },
 "nbformat": 4,
 "nbformat_minor": 5
}
