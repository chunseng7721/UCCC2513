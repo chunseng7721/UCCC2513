{
 "cells": [
  {
   "cell_type": "markdown",
   "id": "0d849b2f",
   "metadata": {},
   "source": [
    "# Learning outcomes\n",
    "1. Load, display and save images\n",
    "2. Load, show and save videos\n",
    "3. image resizing"
   ]
  },
  {
   "cell_type": "markdown",
   "id": "75aa1e21",
   "metadata": {},
   "source": [
    "## Why OpenCV?\n",
    "- Compatible with multiple major OS, like Windows, MacOS, Linux, Written in C++, Python and Java\n",
    "- Interpreterable with Numpy, thereby facilities fast computation of image arrays\n",
    "- Large community support, a lot of articles, stackoverflow post regarding OpenCV"
   ]
  },
  {
   "cell_type": "markdown",
   "id": "6bc48c61",
   "metadata": {},
   "source": [
    "## Image formats\n",
    "- JPEG(.jpg, .jpeg, jfif)\n",
    "    - photos, smaller file size compared to png \n",
    "- PNG (.png)\n",
    "    - website or file transfer\n",
    "- tiff (.tif)\n",
    "    - used for printing (high quality). Large file sixze\n",
    "- bitmap(.bmp)\n",
    "    - large file size\n",
    "- gif (.GIF, OpenCV can't deal with GIF)\n",
    "    - support animation, shallow color depth\n",
    "- webp (.webp)\n",
    "    - used for file transfer, not supported by IE\n"
   ]
  },
  {
   "cell_type": "markdown",
   "id": "7c0c54db",
   "metadata": {},
   "source": [
    "## Load and show images "
   ]
  },
  {
   "cell_type": "markdown",
   "id": "9cc5c833",
   "metadata": {},
   "source": [
    "### setup"
   ]
  },
  {
   "cell_type": "code",
   "execution_count": 1,
   "id": "70bd2e3e",
   "metadata": {},
   "outputs": [],
   "source": [
    "import sys\n",
    "#at least Python 3.7\n",
    "assert sys.version_info >= (3, 7)\n",
    "\n",
    "import numpy as np\n",
    "import cv2 as cv"
   ]
  },
  {
   "cell_type": "code",
   "execution_count": 2,
   "id": "42ad751b",
   "metadata": {},
   "outputs": [
    {
     "name": "stdout",
     "output_type": "stream",
     "text": [
      "4.8.0\n"
     ]
    }
   ],
   "source": [
    "print(cv.__version__)"
   ]
  },
  {
   "cell_type": "code",
   "execution_count": 68,
   "id": "98856b47",
   "metadata": {
    "scrolled": true
   },
   "outputs": [],
   "source": [
    "img = cv.imread(\"images/lena.jfif\")\n",
    "grayscale = cv.imread(\"images/lena.jfif\", 0)\n",
    "# second argument: 1(default, read color image), 0(grayscale), -1: unchanged\n",
    "\n",
    "cv.imshow(\"lena_color\", img)\n",
    "cv.imshow(\"lena_grayscale\", grayscale)\n",
    "cv.waitKey(0) # key binding function: wait for user input\n",
    "cv.destroyAllWindows()"
   ]
  },
  {
   "cell_type": "code",
   "execution_count": 69,
   "id": "8537e0de",
   "metadata": {},
   "outputs": [],
   "source": [
    "def show_img(window_name, img):\n",
    "    #2 arguments: window name and image***\n",
    "    cv.imshow(window_name, img)\n",
    "    cv.waitKey(0) # key binding function: wait for user input\n",
    "    cv.destroyAllWindows()"
   ]
  },
  {
   "cell_type": "code",
   "execution_count": 70,
   "id": "91645702",
   "metadata": {},
   "outputs": [],
   "source": [
    "img = cv.imread(\"images/lena.png\")\n",
    "\n",
    "show_img(\"image\", img)\n"
   ]
  },
  {
   "cell_type": "markdown",
   "id": "28fa973a",
   "metadata": {},
   "source": [
    "How about GIF? we need external module"
   ]
  },
  {
   "cell_type": "code",
   "execution_count": 3,
   "id": "dff8bd9a",
   "metadata": {},
   "outputs": [],
   "source": [
    "import imageio"
   ]
  },
  {
   "cell_type": "code",
   "execution_count": 7,
   "id": "efd501a0",
   "metadata": {},
   "outputs": [],
   "source": [
    "# GIF\n",
    "GIF = imageio.mimread(\"images/rotating_earth_large.gif\")\n",
    "\n",
    "#convert RGB to BGR \n",
    "imgs = [cv.cvtColor(img, cv.COLOR_RGB2BGR) for img in GIF]\n",
    "\n",
    "for img in imgs:\n",
    "    cv.imshow(\"GIF\", img)\n",
    "    cv.waitKey(150)\n",
    "    \n",
    "cv.destroyAllWindows()\n",
    "        \n",
    "#show_img(\"GIF\", imgs[0])"
   ]
  },
  {
   "cell_type": "code",
   "execution_count": 8,
   "id": "06e93033",
   "metadata": {},
   "outputs": [],
   "source": [
    "img_jpeg = cv.imread(\"images/lena.jpg\", -1)\n"
   ]
  },
  {
   "cell_type": "markdown",
   "id": "0b34a335",
   "metadata": {},
   "source": [
    "# Save Image\n",
    "\n",
    "    cv.imwrite(filepath, img)"
   ]
  },
  {
   "cell_type": "code",
   "execution_count": 9,
   "id": "3607af1c",
   "metadata": {},
   "outputs": [],
   "source": [
    "# formalized way to load, show, and save shape\n",
    "img = cv.imread(cv.samples.findFile(\"images/lena.jfif\"))\n",
    "\n",
    "if img is None:\n",
    "    sys.exit(\"Not a valid filepath\")\n",
    "\n",
    "cv.imshow(\"lena\", img)\n",
    "k = cv.waitKey(0) & 0xFF\n",
    "\n",
    "\n",
    "#if k == 115:\n",
    "if k == ord('s'): #user have to press 's'\n",
    "    cv.imwrite(\"lena_save.jpg\", img)\n",
    "    \n",
    "cv.destroyAllWindows()    "
   ]
  },
  {
   "cell_type": "markdown",
   "id": "d300fcce",
   "metadata": {},
   "source": [
    "# video operations with OpenCV"
   ]
  },
  {
   "cell_type": "code",
   "execution_count": 10,
   "id": "8ba64fc3",
   "metadata": {},
   "outputs": [
    {
     "name": "stdout",
     "output_type": "stream",
     "text": [
      "No frame detected\n"
     ]
    },
    {
     "data": {
      "text/plain": [
       "<function destroyAllWindows>"
      ]
     },
     "execution_count": 10,
     "metadata": {},
     "output_type": "execute_result"
    }
   ],
   "source": [
    "cap = cv.VideoCapture(\"videos/img_pexels.mp4\")\n",
    "\n",
    "if not cap.isOpened():\n",
    "    sys.exit(\"No such file\")\n",
    "\n",
    "cv.namedWindow(\"frame\", cv.WINDOW_NORMAL)\n",
    "    \n",
    "while True:\n",
    "    #ret is status， boolean, return true if the frame is available\n",
    "    #frame is image array vector captured\n",
    "    ret, frame = cap.read()\n",
    "    if not ret:\n",
    "        print(\"No frame detected\")\n",
    "        break\n",
    "    cv.imshow(\"frame\", frame)\n",
    "    k = cv.waitKey(1) & 0xFF\n",
    "    \n",
    "    if k == 27:\n",
    "        break\n",
    "        \n",
    "cap.release()\n",
    "cv.destroyAllWindows"
   ]
  },
  {
   "cell_type": "code",
   "execution_count": 11,
   "id": "8359ee71",
   "metadata": {},
   "outputs": [
    {
     "ename": "AttributeError",
     "evalue": "'NoneType' object has no attribute 'shape'",
     "output_type": "error",
     "traceback": [
      "\u001b[1;31m---------------------------------------------------------------------------\u001b[0m",
      "\u001b[1;31mAttributeError\u001b[0m                            Traceback (most recent call last)",
      "Input \u001b[1;32mIn [11]\u001b[0m, in \u001b[0;36m<cell line: 4>\u001b[1;34m()\u001b[0m\n\u001b[0;32m      1\u001b[0m img_jpeg \u001b[38;5;241m=\u001b[39m cv\u001b[38;5;241m.\u001b[39mimread(\u001b[38;5;124m\"\u001b[39m\u001b[38;5;124mimages/lena.jpg\u001b[39m\u001b[38;5;124m\"\u001b[39m, \u001b[38;5;241m-\u001b[39m\u001b[38;5;241m1\u001b[39m)\n\u001b[0;32m      2\u001b[0m img_png \u001b[38;5;241m=\u001b[39m cv\u001b[38;5;241m.\u001b[39mimread(\u001b[38;5;124m\"\u001b[39m\u001b[38;5;124mimages/lena.png\u001b[39m\u001b[38;5;124m\"\u001b[39m, \u001b[38;5;241m-\u001b[39m\u001b[38;5;241m1\u001b[39m)\n\u001b[1;32m----> 4\u001b[0m \u001b[38;5;28mprint\u001b[39m(\u001b[38;5;124mf\u001b[39m\u001b[38;5;124m\"\u001b[39m\u001b[38;5;124mThe shape of jpeg: \u001b[39m\u001b[38;5;132;01m{\u001b[39;00mimg_jpeg\u001b[38;5;241m.\u001b[39mshape\u001b[38;5;132;01m}\u001b[39;00m\u001b[38;5;124m\"\u001b[39m)\n\u001b[0;32m      5\u001b[0m \u001b[38;5;28mprint\u001b[39m(\u001b[38;5;124mf\u001b[39m\u001b[38;5;124m\"\u001b[39m\u001b[38;5;124mThe shape of png: \u001b[39m\u001b[38;5;132;01m{\u001b[39;00mimg_png\u001b[38;5;241m.\u001b[39mshape\u001b[38;5;132;01m}\u001b[39;00m\u001b[38;5;124m\"\u001b[39m)\n",
      "\u001b[1;31mAttributeError\u001b[0m: 'NoneType' object has no attribute 'shape'"
     ]
    }
   ],
   "source": [
    "img_jpeg = cv.imread(\"images/lena.jpg\", -1)\n",
    "img_png = cv.imread(\"images/lena.png\", -1)\n",
    "\n",
    "print(f\"The shape of jpeg: {img_jpeg.shape}\")\n",
    "print(f\"The shape of png: {img_png.shape}\")"
   ]
  },
  {
   "cell_type": "markdown",
   "id": "cb5ff78c",
   "metadata": {},
   "source": [
    "# WebCam\n",
    "save video captured by webcam"
   ]
  },
  {
   "cell_type": "code",
   "execution_count": 13,
   "id": "be9eede4",
   "metadata": {},
   "outputs": [],
   "source": [
    "cap = cv.VideoCapture(0)\n",
    "\n",
    "if not cap.isOpened():\n",
    "    sys.exit(\"No webcam\")\n",
    "\n",
    "#parameters filepath, fourcc, fps, frame, width and height\n",
    "fourcc = cv.VideoWriter_fourcc(\"M\", \"J\", \"P\", \"G\")\n",
    "\n",
    "fps = 15\n",
    "w, h = int(cap.get(3)), int(cap.get(4))\n",
    "out = cv.VideoWriter(\"videos/out.avi\", fourcc, fps, (w,h))\n",
    "\n",
    "while True:\n",
    "    #ret is status\n",
    "    #frame is range\n",
    "    ret, frame = cap.read()\n",
    "    if not ret:\n",
    "        print(\"No frame detected\")\n",
    "        break\n",
    "        \n",
    "    out.write(frame)\n",
    "    cv.imshow(\"frame\", frame)\n",
    "    k = cv.waitKey(1) & 0xFF\n",
    "    \n",
    "    if k == 27:\n",
    "        break\n",
    "        \n",
    "cap.release()\n",
    "out.release()\n",
    "cv.destroyAllWindows()"
   ]
  },
  {
   "cell_type": "code",
   "execution_count": 15,
   "id": "fccbd51a",
   "metadata": {},
   "outputs": [
    {
     "data": {
      "text/plain": [
       "<function destroyAllWindows>"
      ]
     },
     "execution_count": 15,
     "metadata": {},
     "output_type": "execute_result"
    }
   ],
   "source": [
    "import time\n",
    "\n",
    "cap = cv.VideoCapture(\"videos/img_pexels.mp4\")\n",
    "\n",
    "if not cap.isOpened():\n",
    "    sys.exit(\"No such file\")\n",
    "\n",
    "cv.namedWindow(\"frame\", cv.WINDOW_NORMAL)\n",
    "    \n",
    "start = time.time()    \n",
    "while True:\n",
    "    #ret is status\n",
    "    #frame is range\n",
    "    ret, frame = cap.read()\n",
    "    if not ret:\n",
    "        print(\"No frame detected\")\n",
    "        break\n",
    "    cv.imshow(\"frame\", frame)\n",
    "    k = cv.waitKey(1) & 0xFF\n",
    "    \n",
    "    if k == 27:\n",
    "        break\n",
    "    \n",
    "end = time.time()    \n",
    "# cap.release()\n",
    "cv.destroyAllWindows"
   ]
  },
  {
   "cell_type": "code",
   "execution_count": 16,
   "id": "c8e0ab06",
   "metadata": {},
   "outputs": [
    {
     "name": "stdout",
     "output_type": "stream",
     "text": [
      "The fps using the media player: 60.0\n",
      "The fps with OpenCV: 1077.8042490226867\n"
     ]
    }
   ],
   "source": [
    "print(f\"The fps using the media player: {cap.get(5)}\")\n",
    "total_frame = cap.get(7)\n",
    "print(f\"The fps with OpenCV: {total_frame / (end - start)}\")"
   ]
  },
  {
   "cell_type": "markdown",
   "id": "775a8809",
   "metadata": {},
   "source": [
    "## resizing\n",
    "\n",
    "3 methods to perform resizing\n",
    "\n",
    "1. set arbitrary sizes\n",
    "2. state factor"
   ]
  },
  {
   "cell_type": "code",
   "execution_count": 17,
   "id": "e674be42",
   "metadata": {},
   "outputs": [],
   "source": [
    "# 1 method: set any dimension you prefer\n",
    "img = cv.imread(\"images/soccer.jpg\")\n",
    "\n",
    "# arguments: source image, dimension, fx, fy, interpolation methods\n",
    "new_height = 300\n",
    "new_width = 450\n",
    "img_resize = cv.resize(img, (new_width, new_height))\n",
    "\n",
    "cv.imshow(\"original\", img)\n",
    "show_img(\"resize\", img_resize)"
   ]
  },
  {
   "cell_type": "code",
   "execution_count": 18,
   "id": "2268ed51",
   "metadata": {},
   "outputs": [
    {
     "data": {
      "text/plain": [
       "(1200, 800, 3)"
      ]
     },
     "execution_count": 18,
     "metadata": {},
     "output_type": "execute_result"
    }
   ],
   "source": [
    "#aspect ratio = width/ height\n",
    "#800/1200 = 2/3 original aspect ratio\n",
    "#300/ 450 = 2/3 resize image aspect ratio\n",
    "img.shape"
   ]
  },
  {
   "cell_type": "code",
   "execution_count": 19,
   "id": "64f009dd",
   "metadata": {},
   "outputs": [],
   "source": [
    "#2 way: scale factor\n",
    "\n",
    "img = cv.imread(\"images/lena.jfif\")\n",
    "\n",
    "img_resize = cv.resize(img, None, fx=1.5, fy=1.5)\n",
    "\n",
    "cv.imshow(\"original\", img)\n",
    "show_img(\"resize\", img_resize)"
   ]
  },
  {
   "cell_type": "markdown",
   "id": "697e85b2",
   "metadata": {},
   "source": [
    "# Question 1"
   ]
  },
  {
   "cell_type": "code",
   "execution_count": 20,
   "id": "771e58ba",
   "metadata": {},
   "outputs": [],
   "source": [
    "#Exercise 1\n",
    "dog = cv.imread(\"images/dog.jfif\")\n",
    "\n",
    "show_img(\"dog\", dog)\n",
    "\n"
   ]
  },
  {
   "cell_type": "code",
   "execution_count": 21,
   "id": "d00aa404",
   "metadata": {},
   "outputs": [],
   "source": [
    "# formalized way to load, show, and save shape\n",
    "img = cv.imread(cv.samples.findFile(\"images/dog.jfif\"))\n",
    "\n",
    "if img is None:\n",
    "    sys.exit(\"Not a valid filepath\")\n",
    "\n",
    "cv.imshow(\"dog\", img)\n",
    "k = cv.waitKey(0) & 0xFF\n",
    "\n",
    "\n",
    "#if k == 115:\n",
    "if k == ord('s'): #user have to press 's'\n",
    "    cv.imwrite(\"dog_save.jpg\", img)\n",
    "    \n",
    "cv.destroyAllWindows() "
   ]
  },
  {
   "cell_type": "markdown",
   "id": "d7c33033",
   "metadata": {},
   "source": [
    "# Question 2"
   ]
  },
  {
   "cell_type": "code",
   "execution_count": 21,
   "id": "2ea66a40",
   "metadata": {},
   "outputs": [],
   "source": [
    "## 1 method call cv.imshow() twice\n",
    "\n",
    "img = cv.imread(\"images/lena.jfif\")\n",
    "grayscale = cv.cvtColor(img, cv.COLOR_BGR2GRAY)\n",
    "cv.imshow(\"COLOR\", img)\n",
    "show_img(\"grayscale\", grayscale)"
   ]
  },
  {
   "cell_type": "code",
   "execution_count": 22,
   "id": "52c51c8d",
   "metadata": {},
   "outputs": [],
   "source": [
    "## 2 method call matplotlib module\n",
    "import matplotlib.pyplot as plt"
   ]
  },
  {
   "cell_type": "code",
   "execution_count": 27,
   "id": "73c4e681",
   "metadata": {},
   "outputs": [
    {
     "data": {
      "image/png": "[encoded data removed]",
      "text/plain": [
       "<Figure size 432x288 with 2 Axes>"
      ]
     },
     "metadata": {},
     "output_type": "display_data"
    }
   ],
   "source": [
    "img_rgb = cv.cvtColor(img, cv.COLOR_BGR2RGB)\n",
    "\n",
    "plt.subplot(121)\n",
    "plt.imshow(img)\n",
    "plt.xticks([]), plt.yticks([])\n",
    "plt.subplot(122)\n",
    "plt.imshow(grayscale, cmap=plt.cm.gray)\n",
    "plt.xticks([]), plt.yticks([])\n",
    "plt.suptitle(\"color and grayscale\")\n",
    "plt.show()"
   ]
  },
  {
   "cell_type": "code",
   "execution_count": 28,
   "id": "055c3bbf",
   "metadata": {},
   "outputs": [],
   "source": [
    "# 3 method: cv.imshow() or plt\n",
    "\n",
    "grayscale = cv.cvtColor(grayscale, cv.COLOR_GRAY2BGR)\n",
    "\n",
    "img_combined = np.hstack((img, grayscale))\n",
    "\n",
    "show_img(\"color vs grayscale\", img_combined)"
   ]
  },
  {
   "cell_type": "markdown",
   "id": "1eb0d347",
   "metadata": {},
   "source": [
    "## Question 3"
   ]
  },
  {
   "cell_type": "code",
   "execution_count": 65,
   "id": "e3d09db2",
   "metadata": {},
   "outputs": [
    {
     "data": {
      "text/plain": [
       "<function destroyAllWindows>"
      ]
     },
     "execution_count": 65,
     "metadata": {},
     "output_type": "execute_result"
    }
   ],
   "source": [
    "vidcap = cv.VideoCapture(\"videos/img_pexels.mp4\")\n",
    "\n",
    "if not vidcap.isOpened():\n",
    "    sys.exit(\"No such file\")\n",
    "    \n",
    "#cv.namedWindow(\"frame\", cv.WINDOW_NORMAL)\n",
    "#parameters filepath, fourcc, fps, frame, width and height\n",
    "fourcc = cv.VideoWriter_fourcc(\"M\", \"J\", \"P\", \"G\")\n",
    "\n",
    "fps = 15\n",
    "w, h = int(vidcap.get(3)), int(vidcap.get(4))\n",
    "smallermp4 = cv.VideoWriter(\"videos/smaller_img_pexels.mp4\", fourcc, fps, (w,h))\n",
    "\n",
    "while True:\n",
    "    #ret is status， boolean, return true if the frame is available\n",
    "    #frame is image array vector captured\n",
    "    ret, frame = vidcap.read()\n",
    "\n",
    "    frame = cv.resize(frame, (360, 400))\n",
    "\n",
    "    if not ret:\n",
    "        print(\"No frame detected\")\n",
    "        break\n",
    "    smallermp4.write(frame)\n",
    "    cv.imshow(\"frame\", frame)\n",
    "    k = cv.waitKey(1) & 0xFF\n",
    "    \n",
    "    if k == 27:\n",
    "        break\n",
    "    \n",
    "vidcap.release()\n",
    "smallermp4.release()\n",
    "cv.destroyAllWindows"
   ]
  },
  {
   "cell_type": "markdown",
   "id": "68443aed",
   "metadata": {},
   "source": [
    "## Question 4"
   ]
  },
  {
   "cell_type": "code",
   "execution_count": 79,
   "id": "e4e69031",
   "metadata": {},
   "outputs": [],
   "source": [
    "img = cv.imread(\"images/dog.jfif\")\n",
    "\n",
    "# arguments: source image, dimension, fx, fy, interpolation methods\n",
    "new_height = 270\n",
    "new_width = 450\n",
    "img_resize_linear = cv.resize(img, (new_width, new_height), fx=1, fy=1, interpolation = cv.INTER_LINEAR)\n",
    "                               \n",
    "cv.imshow(\"original\", img)\n",
    "show_img(\"linear\", img_resize_linear)\n",
    "\n"
   ]
  },
  {
   "cell_type": "code",
   "execution_count": 80,
   "id": "25f15345",
   "metadata": {},
   "outputs": [],
   "source": [
    "img_resize_cubic = cv.resize(img, (new_width, new_height), fx=1, fy=1, interpolation = cv.INTER_CUBIC)\n",
    "\n",
    "show_img(\"cubic\", img_resize_cubic)"
   ]
  },
  {
   "cell_type": "code",
   "execution_count": 81,
   "id": "27dc75b1",
   "metadata": {},
   "outputs": [],
   "source": [
    "img_resize_nearest = cv.resize(img, (new_width, new_height), fx=1, fy=1, interpolation = cv.INTER_NEAREST)\n",
    "\n",
    "show_img(\"nearest\", img_resize_nearest)"
   ]
  },
  {
   "cell_type": "markdown",
   "id": "7befe220",
   "metadata": {},
   "source": [
    "### 1) Linear interpolation\n",
    "\n",
    "- take four nearest known neighbours (2x2 neighbourhood) of unknown pixels and then take the average of these values to assign the unkwown pixel\n",
    "- take an approximation of a point between two points by scaling the point according to how close it is to the respective two points.\n",
    "- for example, (2x2 neighbourhood) extend to (4x4 neighbourhood),\n",
    "    *ASSUME MIDDLE POINT IS (0.75,0.25)*\n",
    "               10|20     10|12|17|20\n",
    "               30|40 --> 15|17|22|25\n",
    "                         25|27|32|35\n",
    "                         30|32|37|40\n",
    "    - for (0,2) to get 12, the calculation is 10*0.75 + 20*0.25 = 7.5 + 5 = 12.5... \n",
    "    \n",
    "###### comment: the picture is more smooter...\n",
    "\n",
    "### 2) Cubic interpolation\n",
    "\n",
    "- use 16 pixels around the pixel to be interpolated (4x4 neighbourhood)\n",
    "- determine the 16 coefficients a(ij) and the multiply them with the weights of the known pixels and interpolate unknown pixels.\n",
    "\n",
    "###### comment: the picture is more sharper...\n",
    "\n",
    "### 3) Nearest neighbor interpolation\n",
    "\n",
    "- find the unknown pixels to be at (-0.5, -0.5), (-0.5, -0.5) and so on...\n",
    "- compare the values of the known pixels to the values of the nearest unknown pixels, thereafter, assign the nearest value to the nearest unknown pixels\n",
    "- for example, 10|20     10|10|20|20\n",
    "               30|40 --> 10|10|20|20\n",
    "                         30|30|40|40\n",
    "                         30|30|40|40\n",
    "                         \n",
    "###### comment: the picture is smooter than the image enlarged using cubic interpolation and sharper than the image enlarged using linear interpolation...\n"
   ]
  },
  {
   "cell_type": "code",
   "execution_count": null,
   "id": "c98adb2a",
   "metadata": {},
   "outputs": [],
   "source": []
  },
  {
   "cell_type": "code",
   "execution_count": null,
   "id": "89e4678a",
   "metadata": {},
   "outputs": [],
   "source": []
  }
 ],
 "metadata": {
  "kernelspec": {
   "display_name": "Python 3 (ipykernel)",
   "language": "python",
   "name": "python3"
  },
  "language_info": {
   "codemirror_mode": {
    "name": "ipython",
    "version": 3
   },
   "file_extension": ".py",
   "mimetype": "text/x-python",
   "name": "python",
   "nbconvert_exporter": "python",
   "pygments_lexer": "ipython3",
   "version": "3.9.12"
  }
 },
 "nbformat": 4,
 "nbformat_minor": 5
}
